{
  "nbformat": 4,
  "nbformat_minor": 0,
  "metadata": {
    "colab": {
      "name": "BankAccount.ipynb",
      "provenance": [],
      "authorship_tag": "ABX9TyNhQLsP/6zRrtqoQDHZ0AoC",
      "include_colab_link": true
    },
    "kernelspec": {
      "name": "python3",
      "display_name": "Python 3"
    }
  },
  "cells": [
    {
      "cell_type": "markdown",
      "metadata": {
        "id": "view-in-github",
        "colab_type": "text"
      },
      "source": [
        "<a href=\"https://colab.research.google.com/github/jaggrd/PRUEBAS-PYTHON/blob/master/BankAccount.ipynb\" target=\"_parent\"><img src=\"https://colab.research.google.com/assets/colab-badge.svg\" alt=\"Open In Colab\"/></a>"
      ]
    },
    {
      "cell_type": "code",
      "metadata": {
        "id": "dISxotqOB3vF",
        "colab_type": "code",
        "colab": {}
      },
      "source": [
        "class Account:\n",
        "    \n",
        "    def __init__(self,owner,balance):\n",
        "        \n",
        "        self.owner = owner\n",
        "        self.balance = balance\n",
        "        \n",
        "    \n",
        "    def __str__(self):\n",
        "        return (f'Account: \\nOwner= {self.owner} \\nInicial Balance= {self.balance}')\n",
        "        \n",
        "        \n",
        "    def Add_Ammount(self,ammount):\n",
        "        self.balance = self.balance + ammount\n",
        "        print(\"Deposit Accepted\", ammount)\n",
        "        \n",
        "    def Sub_Ammount(self,ammount):\n",
        "        if ammount <= self.balance:\n",
        "            self.balance = self.balance - ammount               \n",
        "            print(\"Ammount Withdrawled\", ammount)\n",
        "        else:\n",
        "            print(\"Not Enough Balance\")\n",
        "                \n",
        "        \n",
        "\n",
        "# 1. Instantiate the class\n",
        "acct1 = Account('Jose',100)\n",
        "\n",
        "# 2. Print the object\n",
        "print(acct1.__str__())\n",
        "#Account owner:   Jose\n",
        "#Account balance: $100\n",
        "\n",
        "# 3. Show the account owner attribute\n",
        "print(\"Account - Owner: \",acct1.owner)\n",
        "#'Jose'\n",
        "\n",
        "# 4. Show the account balance attribute\n",
        "print(\"Account - Balance:  \",acct1.balance)\n",
        "#100\n",
        "\n",
        "# 5. Make a series of deposits and withdrawals\n",
        "deposito = int(input(\"Monto Deposito?  \"))\n",
        "acct1.Add_Ammount(deposito)\n",
        "print(\"Balance:  \",acct1.balance)\n",
        "#Deposit Accepted\n",
        "\n",
        "retiro = int(input(\"Monto Retiro?  \"))\n",
        "acct1.Sub_Ammount(retiro)\n",
        "print(\"Balance:  \", acct1.balance)\n",
        "#Withdrawal Accepted\n",
        "\n",
        "# 6. Make a withdrawal that exceeds the available balance\n",
        "acct1.Sub_Ammount(200)\n",
        "print(\"Balance:  \",acct1.balance)\n",
        "#Funds Unavailable!\n",
        "\n",
        "print(acct1.balance)"
      ],
      "execution_count": 0,
      "outputs": []
    }
  ]
}